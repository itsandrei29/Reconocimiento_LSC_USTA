{
  "nbformat": 4,
  "nbformat_minor": 0,
  "metadata": {
    "colab": {
      "provenance": [],
      "gpuType": "T4"
    },
    "kernelspec": {
      "name": "python3",
      "display_name": "Python 3"
    },
    "language_info": {
      "name": "python"
    },
    "accelerator": "GPU"
  },
  "cells": [
    {
      "cell_type": "code",
      "source": [
        "# Reinstalar numpy en versión compatible\n",
        "!pip install numpy==1.23.5 --quiet\n",
        "\n",
        "# Reinstalar mediapipe para que se compile correctamente con esa versión\n",
        "!pip install mediapipe --force-reinstall --no-cache-dir --quiet\n",
        "\n",
        "# Reiniciar el kernel automáticamente (esto es necesario para que funcione correctamente)\n",
        "import os\n",
        "os.kill(os.getpid(), 9)"
      ],
      "metadata": {
        "colab": {
          "base_uri": "https://localhost:8080/"
        },
        "id": "l_dM99cPm06S",
        "outputId": "d52b9339-f594-495a-d1e9-39ac01755561"
      },
      "execution_count": null,
      "outputs": [
        {
          "output_type": "stream",
          "name": "stdout",
          "text": [
            "\u001b[2K   \u001b[90m━━━━━━━━━━━━━━━━━━━━━━━━━━━━━━━━━━━━━━━━\u001b[0m \u001b[32m17.1/17.1 MB\u001b[0m \u001b[31m36.2 MB/s\u001b[0m eta \u001b[36m0:00:00\u001b[0m\n",
            "\u001b[?25h\u001b[31mERROR: pip's dependency resolver does not currently take into account all the packages that are installed. This behaviour is the source of the following dependency conflicts.\n",
            "jaxlib 0.5.1 requires numpy>=1.25, but you have numpy 1.23.5 which is incompatible.\n",
            "imbalanced-learn 0.13.0 requires numpy<3,>=1.24.3, but you have numpy 1.23.5 which is incompatible.\n",
            "tensorflow 2.18.0 requires numpy<2.1.0,>=1.26.0, but you have numpy 1.23.5 which is incompatible.\n",
            "scikit-image 0.25.2 requires numpy>=1.24, but you have numpy 1.23.5 which is incompatible.\n",
            "bigframes 1.42.0 requires numpy>=1.24.0, but you have numpy 1.23.5 which is incompatible.\n",
            "albumentations 2.0.5 requires numpy>=1.24.4, but you have numpy 1.23.5 which is incompatible.\n",
            "blosc2 3.3.0 requires numpy>=1.26, but you have numpy 1.23.5 which is incompatible.\n",
            "jax 0.5.2 requires numpy>=1.25, but you have numpy 1.23.5 which is incompatible.\n",
            "albucore 0.0.23 requires numpy>=1.24.4, but you have numpy 1.23.5 which is incompatible.\n",
            "chex 0.1.89 requires numpy>=1.24.1, but you have numpy 1.23.5 which is incompatible.\n",
            "treescope 0.1.9 requires numpy>=1.25.2, but you have numpy 1.23.5 which is incompatible.\n",
            "thinc 8.3.6 requires numpy<3.0.0,>=2.0.0, but you have numpy 1.23.5 which is incompatible.\n",
            "xarray 2025.1.2 requires numpy>=1.24, but you have numpy 1.23.5 which is incompatible.\n",
            "pymc 5.21.2 requires numpy>=1.25.0, but you have numpy 1.23.5 which is incompatible.\u001b[0m\u001b[31m\n",
            "\u001b[2K     \u001b[90m━━━━━━━━━━━━━━━━━━━━━━━━━━━━━━━━━━━━━━━━\u001b[0m \u001b[32m61.0/61.0 kB\u001b[0m \u001b[31m18.8 MB/s\u001b[0m eta \u001b[36m0:00:00\u001b[0m\n",
            "\u001b[2K     \u001b[90m━━━━━━━━━━━━━━━━━━━━━━━━━━━━━━━━━━━━━━━\u001b[0m \u001b[32m62.0/62.0 kB\u001b[0m \u001b[31m168.2 MB/s\u001b[0m eta \u001b[36m0:00:00\u001b[0m\n",
            "\u001b[2K     \u001b[90m━━━━━━━━━━━━━━━━━━━━━━━━━━━━━━━━━━━━━\u001b[0m \u001b[32m102.5/102.5 kB\u001b[0m \u001b[31m357.3 MB/s\u001b[0m eta \u001b[36m0:00:00\u001b[0m\n",
            "\u001b[2K   \u001b[90m━━━━━━━━━━━━━━━━━━━━━━━━━━━━━━━━━━━━━━━━\u001b[0m \u001b[32m35.6/35.6 MB\u001b[0m \u001b[31m249.8 MB/s\u001b[0m eta \u001b[36m0:00:00\u001b[0m\n",
            "\u001b[2K   \u001b[90m━━━━━━━━━━━━━━━━━━━━━━━━━━━━━━━━━━━━━━━━\u001b[0m \u001b[32m63.8/63.8 kB\u001b[0m \u001b[31m243.5 MB/s\u001b[0m eta \u001b[36m0:00:00\u001b[0m\n",
            "\u001b[2K   \u001b[90m━━━━━━━━━━━━━━━━━━━━━━━━━━━━━━━━━━━━━━━━\u001b[0m \u001b[32m18.3/18.3 MB\u001b[0m \u001b[31m229.1 MB/s\u001b[0m eta \u001b[36m0:00:00\u001b[0m\n",
            "\u001b[2K   \u001b[90m━━━━━━━━━━━━━━━━━━━━━━━━━━━━━━━━━━━━━━━\u001b[0m \u001b[32m294.6/294.6 kB\u001b[0m \u001b[31m245.1 MB/s\u001b[0m eta \u001b[36m0:00:00\u001b[0m\n",
            "\u001b[2K   \u001b[90m━━━━━━━━━━━━━━━━━━━━━━━━━━━━━━━━━━━━━━━\u001b[0m \u001b[32m135.6/135.6 kB\u001b[0m \u001b[31m271.9 MB/s\u001b[0m eta \u001b[36m0:00:00\u001b[0m\n",
            "\u001b[2K   \u001b[90m━━━━━━━━━━━━━━━━━━━━━━━━━━━━━━━━━━━━━━━━\u001b[0m \u001b[32m2.3/2.3 MB\u001b[0m \u001b[31m246.9 MB/s\u001b[0m eta \u001b[36m0:00:00\u001b[0m\n",
            "\u001b[2K   \u001b[90m━━━━━━━━━━━━━━━━━━━━━━━━━━━━━━━━━━━━━━━━\u001b[0m \u001b[32m87.8/87.8 MB\u001b[0m \u001b[31m164.2 MB/s\u001b[0m eta \u001b[36m0:00:00\u001b[0m\n",
            "\u001b[2K   \u001b[90m━━━━━━━━━━━━━━━━━━━━━━━━━━━━━━━━━━━━━━━━\u001b[0m \u001b[32m8.6/8.6 MB\u001b[0m \u001b[31m192.2 MB/s\u001b[0m eta \u001b[36m0:00:00\u001b[0m\n",
            "\u001b[2K   \u001b[90m━━━━━━━━━━━━━━━━━━━━━━━━━━━━━━━━━━━━━━━━\u001b[0m \u001b[32m69.1/69.1 MB\u001b[0m \u001b[31m241.4 MB/s\u001b[0m eta \u001b[36m0:00:00\u001b[0m\n",
            "\u001b[2K   \u001b[90m━━━━━━━━━━━━━━━━━━━━━━━━━━━━━━━━━━━━━━━━\u001b[0m \u001b[32m1.3/1.3 MB\u001b[0m \u001b[31m325.8 MB/s\u001b[0m eta \u001b[36m0:00:00\u001b[0m\n",
            "\u001b[2K   \u001b[90m━━━━━━━━━━━━━━━━━━━━━━━━━━━━━━━━━━━━━━━\u001b[0m \u001b[32m467.2/467.2 kB\u001b[0m \u001b[31m393.3 MB/s\u001b[0m eta \u001b[36m0:00:00\u001b[0m\n",
            "\u001b[2K   \u001b[90m━━━━━━━━━━━━━━━━━━━━━━━━━━━━━━━━━━━━━━━\u001b[0m \u001b[32m326.2/326.2 kB\u001b[0m \u001b[31m389.3 MB/s\u001b[0m eta \u001b[36m0:00:00\u001b[0m\n",
            "\u001b[2K   \u001b[90m━━━━━━━━━━━━━━━━━━━━━━━━━━━━━━━━━━━━━━━━\u001b[0m \u001b[32m4.9/4.9 MB\u001b[0m \u001b[31m290.5 MB/s\u001b[0m eta \u001b[36m0:00:00\u001b[0m\n",
            "\u001b[2K   \u001b[90m━━━━━━━━━━━━━━━━━━━━━━━━━━━━━━━━━━━━━━━━\u001b[0m \u001b[32m1.4/1.4 MB\u001b[0m \u001b[31m385.6 MB/s\u001b[0m eta \u001b[36m0:00:00\u001b[0m\n",
            "\u001b[2K   \u001b[90m━━━━━━━━━━━━━━━━━━━━━━━━━━━━━━━━━━━━━━━━\u001b[0m \u001b[32m4.7/4.7 MB\u001b[0m \u001b[31m263.6 MB/s\u001b[0m eta \u001b[36m0:00:00\u001b[0m\n",
            "\u001b[2K   \u001b[90m━━━━━━━━━━━━━━━━━━━━━━━━━━━━━━━━━━━━━━━━\u001b[0m \u001b[32m66.5/66.5 kB\u001b[0m \u001b[31m331.9 MB/s\u001b[0m eta \u001b[36m0:00:00\u001b[0m\n",
            "\u001b[2K   \u001b[90m━━━━━━━━━━━━━━━━━━━━━━━━━━━━━━━━━━━━━━━━\u001b[0m \u001b[32m4.6/4.6 MB\u001b[0m \u001b[31m316.4 MB/s\u001b[0m eta \u001b[36m0:00:00\u001b[0m\n",
            "\u001b[2K   \u001b[90m━━━━━━━━━━━━━━━━━━━━━━━━━━━━━━━━━━━━━━━\u001b[0m \u001b[32m111.1/111.1 kB\u001b[0m \u001b[31m357.3 MB/s\u001b[0m eta \u001b[36m0:00:00\u001b[0m\n",
            "\u001b[2K   \u001b[90m━━━━━━━━━━━━━━━━━━━━━━━━━━━━━━━━━━━━━━━\u001b[0m \u001b[32m229.9/229.9 kB\u001b[0m \u001b[31m373.6 MB/s\u001b[0m eta \u001b[36m0:00:00\u001b[0m\n",
            "\u001b[2K   \u001b[90m━━━━━━━━━━━━━━━━━━━━━━━━━━━━━━━━━━━━━━━━\u001b[0m \u001b[32m37.6/37.6 MB\u001b[0m \u001b[31m271.5 MB/s\u001b[0m eta \u001b[36m0:00:00\u001b[0m\n",
            "\u001b[2K   \u001b[90m━━━━━━━━━━━━━━━━━━━━━━━━━━━━━━━━━━━━━━━━\u001b[0m \u001b[32m71.9/71.9 kB\u001b[0m \u001b[31m279.3 MB/s\u001b[0m eta \u001b[36m0:00:00\u001b[0m\n",
            "\u001b[2K   \u001b[90m━━━━━━━━━━━━━━━━━━━━━━━━━━━━━━━━━━━━━━━\u001b[0m \u001b[32m117.6/117.6 kB\u001b[0m \u001b[31m316.8 MB/s\u001b[0m eta \u001b[36m0:00:00\u001b[0m\n",
            "\u001b[?25h\u001b[31mERROR: pip's dependency resolver does not currently take into account all the packages that are installed. This behaviour is the source of the following dependency conflicts.\n",
            "tensorflow 2.18.0 requires ml-dtypes<0.5.0,>=0.4.0, but you have ml-dtypes 0.5.1 which is incompatible.\n",
            "grpcio-status 1.71.0 requires protobuf<6.0dev,>=5.26.1, but you have protobuf 4.25.6 which is incompatible.\n",
            "ydf 0.11.0 requires protobuf<6.0.0,>=5.29.1, but you have protobuf 4.25.6 which is incompatible.\n",
            "thinc 8.3.6 requires numpy<3.0.0,>=2.0.0, but you have numpy 1.26.4 which is incompatible.\n",
            "langchain-core 0.3.52 requires packaging<25,>=23.2, but you have packaging 25.0 which is incompatible.\u001b[0m\u001b[31m\n",
            "\u001b[0m"
          ]
        }
      ]
    },
    {
      "cell_type": "markdown",
      "source": [
        "# 1. Cargar librerias"
      ],
      "metadata": {
        "id": "qojWvHR8OmWn"
      }
    },
    {
      "cell_type": "code",
      "source": [
        "import numpy as np\n",
        "import pandas as pd\n",
        "import os\n",
        "import matplotlib.pyplot as plt\n",
        "\n",
        "from sklearn.model_selection import train_test_split\n",
        "from sklearn.preprocessing import LabelEncoder\n",
        "from tensorflow.keras.models import Sequential\n",
        "from tensorflow.keras.layers import Dense, Dropout\n",
        "from tensorflow.keras.utils import to_categorical"
      ],
      "metadata": {
        "id": "SGuBmGajnzpe",
        "colab": {
          "base_uri": "https://localhost:8080/"
        },
        "outputId": "827d8195-2b79-46fa-e2fa-543c187dde18"
      },
      "execution_count": null,
      "outputs": [
        {
          "output_type": "stream",
          "name": "stderr",
          "text": [
            "/usr/local/lib/python3.11/dist-packages/jaxlib/plugin_support.py:71: RuntimeWarning: JAX plugin jax_cuda12_plugin version 0.5.1 is installed, but it is not compatible with the installed jaxlib version 0.6.0, so it will not be used.\n",
            "  warnings.warn(\n"
          ]
        }
      ]
    },
    {
      "cell_type": "markdown",
      "source": [
        "# 2. Cargar el dataset desde Google Drive"
      ],
      "metadata": {
        "id": "-2EGH9UvOuBC"
      }
    },
    {
      "cell_type": "code",
      "execution_count": null,
      "metadata": {
        "colab": {
          "base_uri": "https://localhost:8080/"
        },
        "id": "ifuF0TWWlhm2",
        "outputId": "ed6c0472-0553-432e-d301-2c2dc836865f"
      },
      "outputs": [
        {
          "output_type": "stream",
          "name": "stdout",
          "text": [
            "Mounted at /content/drive\n"
          ]
        }
      ],
      "source": [
        "from google.colab import drive\n",
        "drive.mount('/content/drive')"
      ]
    },
    {
      "cell_type": "code",
      "source": [
        "# Ruta al archivo zip en tu Google Drive\n",
        "zip_path = '/content/drive/MyDrive/entrenamiento/dataset_combinado.zip'\n",
        "extract_to = '/content'"
      ],
      "metadata": {
        "id": "NsvVrWJQljE4"
      },
      "execution_count": null,
      "outputs": []
    },
    {
      "cell_type": "code",
      "source": [
        "from zipfile import ZipFile\n",
        "\n",
        "with ZipFile(zip_path, 'r') as zip_ref:\n",
        "    zip_ref.extractall(extract_to)\n",
        "\n",
        "print(\"Dataset extraído en:\", extract_to)"
      ],
      "metadata": {
        "colab": {
          "base_uri": "https://localhost:8080/"
        },
        "id": "Pj1AUAczllE-",
        "outputId": "c836a456-ad33-4fab-8eb6-3e33a01f6acd"
      },
      "execution_count": null,
      "outputs": [
        {
          "output_type": "stream",
          "name": "stdout",
          "text": [
            "Dataset extraído en: /content\n"
          ]
        }
      ]
    },
    {
      "cell_type": "markdown",
      "source": [
        "# 3. Extraer Landmarks de las manos"
      ],
      "metadata": {
        "id": "2WwEb5EiPjx3"
      }
    },
    {
      "cell_type": "markdown",
      "source": [
        "**Extrae los puntos de referencia de la mano para luego entrenar el modelo**"
      ],
      "metadata": {
        "id": "qaRpSTJbPqPN"
      }
    },
    {
      "cell_type": "code",
      "source": [
        "import cv2\n",
        "import mediapipe as mp\n",
        "import numpy as np\n",
        "from tqdm import tqdm\n",
        "import pickle\n",
        "import os\n",
        "\n",
        "mp_hands = mp.solutions.hands\n",
        "hands = mp_hands.Hands(static_image_mode=True, max_num_hands=1)\n",
        "\n",
        "X_data = []\n",
        "y_labels = []\n",
        "\n",
        "# Assuming the extracted dataset is in '/content/dataset_combinado'\n",
        "dataset_path = \"/content/dataset_combinado\"\n",
        "\n",
        "for letra in tqdm(letras, desc=\"📦 Procesando letras\"):\n",
        "    carpeta_letra = os.path.join(dataset_path, letra) # Updated path to include dataset_path\n",
        "    if not os.path.exists(carpeta_letra):  # Check if the folder exists\n",
        "        print(f\"Warning: Folder for letter '{letra}' not found: {carpeta_letra}\")\n",
        "        continue\n",
        "    for archivo in os.listdir(carpeta_letra):\n",
        "        ruta_img = os.path.join(carpeta_letra, archivo)\n",
        "        imagen = cv2.imread(ruta_img)\n",
        "        if imagen is None:\n",
        "            continue\n",
        "        img_rgb = cv2.cvtColor(imagen, cv2.COLOR_BGR2RGB)\n",
        "        results = hands.process(img_rgb)\n",
        "        if results.multi_hand_landmarks:\n",
        "            coords = []\n",
        "            for lm in results.multi_hand_landmarks[0].landmark:\n",
        "                coords.extend([lm.x, lm.y, lm.z])\n",
        "            X_data.append(coords)\n",
        "            y_labels.append(letra)\n",
        "\n",
        "X = np.array(X_data)\n",
        "y = np.array(y_labels)\n",
        "\n",
        "# Guardar los datos procesados para entrenamiento\n",
        "with open(\"/content/features_mediapipe_static.pkl\", \"wb\") as f:\n",
        "    pickle.dump((X, y), f)\n",
        "\n",
        "print(\"✅ Landmarks extraídos y guardados.\")"
      ],
      "metadata": {
        "colab": {
          "base_uri": "https://localhost:8080/"
        },
        "id": "vbJq73h9mMSQ",
        "outputId": "8f54e07b-be54-4ed2-c2be-d25332a36dc3"
      },
      "execution_count": null,
      "outputs": [
        {
          "output_type": "stream",
          "name": "stderr",
          "text": [
            "📦 Procesando letras: 100%|██████████| 21/21 [05:51<00:00, 16.72s/it]"
          ]
        },
        {
          "output_type": "stream",
          "name": "stdout",
          "text": [
            "✅ Landmarks extraídos y guardados.\n"
          ]
        },
        {
          "output_type": "stream",
          "name": "stderr",
          "text": [
            "\n"
          ]
        }
      ]
    },
    {
      "cell_type": "markdown",
      "source": [
        "# 4. Generar el archivo CSV con los valores de landmarkers de las manos del paso anterior"
      ],
      "metadata": {
        "id": "4ZwX2yfWRprZ"
      }
    },
    {
      "cell_type": "code",
      "source": [
        "import cv2\n",
        "import mediapipe as mp\n",
        "import numpy as np\n",
        "import os\n",
        "import pandas as pd\n",
        "from tqdm import tqdm\n",
        "\n",
        "mp_hands = mp.solutions.hands\n",
        "hands = mp_hands.Hands(static_image_mode=True, max_num_hands=1)\n",
        "dataset_path = \"/content/dataset_combinado\"\n",
        "data = []\n",
        "\n",
        "for letra in sorted(os.listdir(dataset_path)):\n",
        "    letra_path = os.path.join(dataset_path, letra)\n",
        "    if not os.path.isdir(letra_path):\n",
        "        continue\n",
        "\n",
        "    for archivo in tqdm(os.listdir(letra_path), desc=f\"Procesando {letra}\"):\n",
        "        if not archivo.lower().endswith(('.png', '.jpg', '.jpeg')):\n",
        "            continue\n",
        "        img_path = os.path.join(letra_path, archivo)\n",
        "        img = cv2.imread(img_path)\n",
        "        if img is None:\n",
        "            continue\n",
        "        img_rgb = cv2.cvtColor(img, cv2.COLOR_BGR2RGB)\n",
        "        resultado = hands.process(img_rgb)\n",
        "\n",
        "        if resultado.multi_hand_landmarks:\n",
        "            landmarks = resultado.multi_hand_landmarks[0]\n",
        "            fila = []\n",
        "            for lm in landmarks.landmark:\n",
        "                fila.extend([lm.x, lm.y, lm.z])\n",
        "            fila.append(letra)\n",
        "            data.append(fila)\n",
        "\n",
        "# Crear columnas para el DataFrame\n",
        "n_landmarks = 21\n",
        "columnas = [f\"{eje}{i}\" for i in range(n_landmarks) for eje in ['x', 'y', 'z']] + ['label']\n",
        "df = pd.DataFrame(data, columns=columnas)\n",
        "\n",
        "# Guardar el CSV\n",
        "df.to_csv(\"/content/landmarks_dataset.csv\", index=False)\n",
        "print(\"✅ CSV guardado: /content/landmarks_dataset.csv\")"
      ],
      "metadata": {
        "colab": {
          "base_uri": "https://localhost:8080/"
        },
        "id": "30zIU6SQo0q0",
        "outputId": "ec0bd116-0d9d-475c-9537-0d9214b47577"
      },
      "execution_count": null,
      "outputs": [
        {
          "output_type": "stream",
          "name": "stderr",
          "text": [
            "Procesando a: 100%|██████████| 469/469 [00:21<00:00, 22.28it/s]\n",
            "Procesando b: 100%|██████████| 469/469 [00:18<00:00, 25.25it/s]\n",
            "Procesando c: 100%|██████████| 469/469 [00:19<00:00, 24.46it/s]\n",
            "Procesando d: 100%|██████████| 469/469 [00:20<00:00, 23.08it/s]\n",
            "Procesando e: 100%|██████████| 469/469 [00:17<00:00, 26.23it/s]\n",
            "Procesando f: 100%|██████████| 469/469 [00:19<00:00, 24.02it/s]\n",
            "Procesando i: 100%|██████████| 469/469 [00:18<00:00, 25.92it/s]\n",
            "Procesando k: 100%|██████████| 469/469 [00:18<00:00, 25.78it/s]\n",
            "Procesando l: 100%|██████████| 469/469 [00:19<00:00, 24.26it/s]\n",
            "Procesando m: 100%|██████████| 469/469 [00:17<00:00, 26.13it/s]\n",
            "Procesando n: 100%|██████████| 469/469 [00:19<00:00, 24.67it/s]\n",
            "Procesando o: 100%|██████████| 469/469 [00:18<00:00, 25.28it/s]\n",
            "Procesando p: 100%|██████████| 469/469 [00:17<00:00, 26.07it/s]\n",
            "Procesando q: 100%|██████████| 469/469 [00:19<00:00, 24.19it/s]\n",
            "Procesando r: 100%|██████████| 469/469 [00:17<00:00, 26.07it/s]\n",
            "Procesando t: 100%|██████████| 469/469 [00:17<00:00, 26.25it/s]\n",
            "Procesando test: 100%|██████████| 21/21 [00:00<00:00, 187405.07it/s]\n",
            "Procesando train: 100%|██████████| 21/21 [00:00<00:00, 276982.34it/s]\n",
            "Procesando u: 100%|██████████| 469/469 [00:19<00:00, 24.16it/s]\n",
            "Procesando v: 100%|██████████| 469/469 [00:18<00:00, 25.94it/s]\n",
            "Procesando val: 100%|██████████| 21/21 [00:00<00:00, 266103.88it/s]\n",
            "Procesando w: 100%|██████████| 469/469 [00:18<00:00, 25.27it/s]\n",
            "Procesando x: 100%|██████████| 469/469 [00:20<00:00, 22.98it/s]\n",
            "Procesando y: 100%|██████████| 469/469 [00:18<00:00, 25.73it/s]\n"
          ]
        },
        {
          "output_type": "stream",
          "name": "stdout",
          "text": [
            "✅ CSV guardado: /content/landmarks_dataset.csv\n"
          ]
        }
      ]
    },
    {
      "cell_type": "markdown",
      "source": [
        "# 5. Se carga el archivo CSV desde Google Drive"
      ],
      "metadata": {
        "id": "fS3vnWTlR0kJ"
      }
    },
    {
      "cell_type": "code",
      "source": [
        "ruta_csv = \"/content/drive/MyDrive/entrenamiento/landmarks_dataset.csv\"  # cambia la ruta si es necesario\n",
        "df = pd.read_csv(ruta_csv)\n",
        "df.head()"
      ],
      "metadata": {
        "colab": {
          "base_uri": "https://localhost:8080/",
          "height": 342
        },
        "id": "kI_3zWQlqxMq",
        "outputId": "8f4cb3ac-90c9-4337-9180-103f910f90ff"
      },
      "execution_count": null,
      "outputs": [
        {
          "output_type": "execute_result",
          "data": {
            "text/plain": [
              "         x0        y0            z0        x1        y1        z1        x2  \\\n",
              "0  0.746483  0.812821  1.727646e-07  0.729076  0.829353 -0.015229  0.727002   \n",
              "1  0.332596  0.763019 -5.350058e-08  0.346682  0.780655 -0.016082  0.351656   \n",
              "2  0.527248  0.556146 -9.821353e-08  0.547490  0.537599 -0.002247  0.559696   \n",
              "3  0.716497  0.725687  7.545324e-08  0.700296  0.739350 -0.012339  0.695443   \n",
              "4  0.403720  0.391323 -1.748886e-07  0.426222  0.370816 -0.001229  0.439416   \n",
              "\n",
              "         y2        z2        x3  ...       x18       y18       z18       x19  \\\n",
              "0  0.856446 -0.021602  0.727038  ...  0.772116  0.907213 -0.006234  0.764955   \n",
              "1  0.808172 -0.020138  0.354631  ...  0.339672  0.848519  0.009689  0.349270   \n",
              "2  0.510113 -0.004233  0.571788  ...  0.507950  0.480342 -0.012722  0.515127   \n",
              "3  0.767569 -0.015118  0.693070  ...  0.711641  0.805003  0.003300  0.701333   \n",
              "4  0.337559 -0.001745  0.450197  ...  0.397919  0.298596 -0.013454  0.400621   \n",
              "\n",
              "        y19       z19       x20       y20       z20  label  \n",
              "0  0.925044 -0.008695  0.756194  0.935428 -0.009384      a  \n",
              "1  0.859242  0.007422  0.359101  0.865392  0.006251      a  \n",
              "2  0.494038 -0.008768  0.515783  0.505039 -0.004613      a  \n",
              "3  0.808909  0.001527  0.693629  0.806845  0.001110      a  \n",
              "4  0.317100 -0.008595  0.397896  0.329742 -0.002992      a  \n",
              "\n",
              "[5 rows x 64 columns]"
            ],
            "text/html": [
              "\n",
              "  <div id=\"df-83086e74-c12b-4e8b-8f4f-03c40825c5f7\" class=\"colab-df-container\">\n",
              "    <div>\n",
              "<style scoped>\n",
              "    .dataframe tbody tr th:only-of-type {\n",
              "        vertical-align: middle;\n",
              "    }\n",
              "\n",
              "    .dataframe tbody tr th {\n",
              "        vertical-align: top;\n",
              "    }\n",
              "\n",
              "    .dataframe thead th {\n",
              "        text-align: right;\n",
              "    }\n",
              "</style>\n",
              "<table border=\"1\" class=\"dataframe\">\n",
              "  <thead>\n",
              "    <tr style=\"text-align: right;\">\n",
              "      <th></th>\n",
              "      <th>x0</th>\n",
              "      <th>y0</th>\n",
              "      <th>z0</th>\n",
              "      <th>x1</th>\n",
              "      <th>y1</th>\n",
              "      <th>z1</th>\n",
              "      <th>x2</th>\n",
              "      <th>y2</th>\n",
              "      <th>z2</th>\n",
              "      <th>x3</th>\n",
              "      <th>...</th>\n",
              "      <th>x18</th>\n",
              "      <th>y18</th>\n",
              "      <th>z18</th>\n",
              "      <th>x19</th>\n",
              "      <th>y19</th>\n",
              "      <th>z19</th>\n",
              "      <th>x20</th>\n",
              "      <th>y20</th>\n",
              "      <th>z20</th>\n",
              "      <th>label</th>\n",
              "    </tr>\n",
              "  </thead>\n",
              "  <tbody>\n",
              "    <tr>\n",
              "      <th>0</th>\n",
              "      <td>0.746483</td>\n",
              "      <td>0.812821</td>\n",
              "      <td>1.727646e-07</td>\n",
              "      <td>0.729076</td>\n",
              "      <td>0.829353</td>\n",
              "      <td>-0.015229</td>\n",
              "      <td>0.727002</td>\n",
              "      <td>0.856446</td>\n",
              "      <td>-0.021602</td>\n",
              "      <td>0.727038</td>\n",
              "      <td>...</td>\n",
              "      <td>0.772116</td>\n",
              "      <td>0.907213</td>\n",
              "      <td>-0.006234</td>\n",
              "      <td>0.764955</td>\n",
              "      <td>0.925044</td>\n",
              "      <td>-0.008695</td>\n",
              "      <td>0.756194</td>\n",
              "      <td>0.935428</td>\n",
              "      <td>-0.009384</td>\n",
              "      <td>a</td>\n",
              "    </tr>\n",
              "    <tr>\n",
              "      <th>1</th>\n",
              "      <td>0.332596</td>\n",
              "      <td>0.763019</td>\n",
              "      <td>-5.350058e-08</td>\n",
              "      <td>0.346682</td>\n",
              "      <td>0.780655</td>\n",
              "      <td>-0.016082</td>\n",
              "      <td>0.351656</td>\n",
              "      <td>0.808172</td>\n",
              "      <td>-0.020138</td>\n",
              "      <td>0.354631</td>\n",
              "      <td>...</td>\n",
              "      <td>0.339672</td>\n",
              "      <td>0.848519</td>\n",
              "      <td>0.009689</td>\n",
              "      <td>0.349270</td>\n",
              "      <td>0.859242</td>\n",
              "      <td>0.007422</td>\n",
              "      <td>0.359101</td>\n",
              "      <td>0.865392</td>\n",
              "      <td>0.006251</td>\n",
              "      <td>a</td>\n",
              "    </tr>\n",
              "    <tr>\n",
              "      <th>2</th>\n",
              "      <td>0.527248</td>\n",
              "      <td>0.556146</td>\n",
              "      <td>-9.821353e-08</td>\n",
              "      <td>0.547490</td>\n",
              "      <td>0.537599</td>\n",
              "      <td>-0.002247</td>\n",
              "      <td>0.559696</td>\n",
              "      <td>0.510113</td>\n",
              "      <td>-0.004233</td>\n",
              "      <td>0.571788</td>\n",
              "      <td>...</td>\n",
              "      <td>0.507950</td>\n",
              "      <td>0.480342</td>\n",
              "      <td>-0.012722</td>\n",
              "      <td>0.515127</td>\n",
              "      <td>0.494038</td>\n",
              "      <td>-0.008768</td>\n",
              "      <td>0.515783</td>\n",
              "      <td>0.505039</td>\n",
              "      <td>-0.004613</td>\n",
              "      <td>a</td>\n",
              "    </tr>\n",
              "    <tr>\n",
              "      <th>3</th>\n",
              "      <td>0.716497</td>\n",
              "      <td>0.725687</td>\n",
              "      <td>7.545324e-08</td>\n",
              "      <td>0.700296</td>\n",
              "      <td>0.739350</td>\n",
              "      <td>-0.012339</td>\n",
              "      <td>0.695443</td>\n",
              "      <td>0.767569</td>\n",
              "      <td>-0.015118</td>\n",
              "      <td>0.693070</td>\n",
              "      <td>...</td>\n",
              "      <td>0.711641</td>\n",
              "      <td>0.805003</td>\n",
              "      <td>0.003300</td>\n",
              "      <td>0.701333</td>\n",
              "      <td>0.808909</td>\n",
              "      <td>0.001527</td>\n",
              "      <td>0.693629</td>\n",
              "      <td>0.806845</td>\n",
              "      <td>0.001110</td>\n",
              "      <td>a</td>\n",
              "    </tr>\n",
              "    <tr>\n",
              "      <th>4</th>\n",
              "      <td>0.403720</td>\n",
              "      <td>0.391323</td>\n",
              "      <td>-1.748886e-07</td>\n",
              "      <td>0.426222</td>\n",
              "      <td>0.370816</td>\n",
              "      <td>-0.001229</td>\n",
              "      <td>0.439416</td>\n",
              "      <td>0.337559</td>\n",
              "      <td>-0.001745</td>\n",
              "      <td>0.450197</td>\n",
              "      <td>...</td>\n",
              "      <td>0.397919</td>\n",
              "      <td>0.298596</td>\n",
              "      <td>-0.013454</td>\n",
              "      <td>0.400621</td>\n",
              "      <td>0.317100</td>\n",
              "      <td>-0.008595</td>\n",
              "      <td>0.397896</td>\n",
              "      <td>0.329742</td>\n",
              "      <td>-0.002992</td>\n",
              "      <td>a</td>\n",
              "    </tr>\n",
              "  </tbody>\n",
              "</table>\n",
              "<p>5 rows × 64 columns</p>\n",
              "</div>\n",
              "    <div class=\"colab-df-buttons\">\n",
              "\n",
              "  <div class=\"colab-df-container\">\n",
              "    <button class=\"colab-df-convert\" onclick=\"convertToInteractive('df-83086e74-c12b-4e8b-8f4f-03c40825c5f7')\"\n",
              "            title=\"Convert this dataframe to an interactive table.\"\n",
              "            style=\"display:none;\">\n",
              "\n",
              "  <svg xmlns=\"http://www.w3.org/2000/svg\" height=\"24px\" viewBox=\"0 -960 960 960\">\n",
              "    <path d=\"M120-120v-720h720v720H120Zm60-500h600v-160H180v160Zm220 220h160v-160H400v160Zm0 220h160v-160H400v160ZM180-400h160v-160H180v160Zm440 0h160v-160H620v160ZM180-180h160v-160H180v160Zm440 0h160v-160H620v160Z\"/>\n",
              "  </svg>\n",
              "    </button>\n",
              "\n",
              "  <style>\n",
              "    .colab-df-container {\n",
              "      display:flex;\n",
              "      gap: 12px;\n",
              "    }\n",
              "\n",
              "    .colab-df-convert {\n",
              "      background-color: #E8F0FE;\n",
              "      border: none;\n",
              "      border-radius: 50%;\n",
              "      cursor: pointer;\n",
              "      display: none;\n",
              "      fill: #1967D2;\n",
              "      height: 32px;\n",
              "      padding: 0 0 0 0;\n",
              "      width: 32px;\n",
              "    }\n",
              "\n",
              "    .colab-df-convert:hover {\n",
              "      background-color: #E2EBFA;\n",
              "      box-shadow: 0px 1px 2px rgba(60, 64, 67, 0.3), 0px 1px 3px 1px rgba(60, 64, 67, 0.15);\n",
              "      fill: #174EA6;\n",
              "    }\n",
              "\n",
              "    .colab-df-buttons div {\n",
              "      margin-bottom: 4px;\n",
              "    }\n",
              "\n",
              "    [theme=dark] .colab-df-convert {\n",
              "      background-color: #3B4455;\n",
              "      fill: #D2E3FC;\n",
              "    }\n",
              "\n",
              "    [theme=dark] .colab-df-convert:hover {\n",
              "      background-color: #434B5C;\n",
              "      box-shadow: 0px 1px 3px 1px rgba(0, 0, 0, 0.15);\n",
              "      filter: drop-shadow(0px 1px 2px rgba(0, 0, 0, 0.3));\n",
              "      fill: #FFFFFF;\n",
              "    }\n",
              "  </style>\n",
              "\n",
              "    <script>\n",
              "      const buttonEl =\n",
              "        document.querySelector('#df-83086e74-c12b-4e8b-8f4f-03c40825c5f7 button.colab-df-convert');\n",
              "      buttonEl.style.display =\n",
              "        google.colab.kernel.accessAllowed ? 'block' : 'none';\n",
              "\n",
              "      async function convertToInteractive(key) {\n",
              "        const element = document.querySelector('#df-83086e74-c12b-4e8b-8f4f-03c40825c5f7');\n",
              "        const dataTable =\n",
              "          await google.colab.kernel.invokeFunction('convertToInteractive',\n",
              "                                                    [key], {});\n",
              "        if (!dataTable) return;\n",
              "\n",
              "        const docLinkHtml = 'Like what you see? Visit the ' +\n",
              "          '<a target=\"_blank\" href=https://colab.research.google.com/notebooks/data_table.ipynb>data table notebook</a>'\n",
              "          + ' to learn more about interactive tables.';\n",
              "        element.innerHTML = '';\n",
              "        dataTable['output_type'] = 'display_data';\n",
              "        await google.colab.output.renderOutput(dataTable, element);\n",
              "        const docLink = document.createElement('div');\n",
              "        docLink.innerHTML = docLinkHtml;\n",
              "        element.appendChild(docLink);\n",
              "      }\n",
              "    </script>\n",
              "  </div>\n",
              "\n",
              "\n",
              "<div id=\"df-1fd68eed-a7f9-4ef4-b3f8-36b4b96b97d8\">\n",
              "  <button class=\"colab-df-quickchart\" onclick=\"quickchart('df-1fd68eed-a7f9-4ef4-b3f8-36b4b96b97d8')\"\n",
              "            title=\"Suggest charts\"\n",
              "            style=\"display:none;\">\n",
              "\n",
              "<svg xmlns=\"http://www.w3.org/2000/svg\" height=\"24px\"viewBox=\"0 0 24 24\"\n",
              "     width=\"24px\">\n",
              "    <g>\n",
              "        <path d=\"M19 3H5c-1.1 0-2 .9-2 2v14c0 1.1.9 2 2 2h14c1.1 0 2-.9 2-2V5c0-1.1-.9-2-2-2zM9 17H7v-7h2v7zm4 0h-2V7h2v10zm4 0h-2v-4h2v4z\"/>\n",
              "    </g>\n",
              "</svg>\n",
              "  </button>\n",
              "\n",
              "<style>\n",
              "  .colab-df-quickchart {\n",
              "      --bg-color: #E8F0FE;\n",
              "      --fill-color: #1967D2;\n",
              "      --hover-bg-color: #E2EBFA;\n",
              "      --hover-fill-color: #174EA6;\n",
              "      --disabled-fill-color: #AAA;\n",
              "      --disabled-bg-color: #DDD;\n",
              "  }\n",
              "\n",
              "  [theme=dark] .colab-df-quickchart {\n",
              "      --bg-color: #3B4455;\n",
              "      --fill-color: #D2E3FC;\n",
              "      --hover-bg-color: #434B5C;\n",
              "      --hover-fill-color: #FFFFFF;\n",
              "      --disabled-bg-color: #3B4455;\n",
              "      --disabled-fill-color: #666;\n",
              "  }\n",
              "\n",
              "  .colab-df-quickchart {\n",
              "    background-color: var(--bg-color);\n",
              "    border: none;\n",
              "    border-radius: 50%;\n",
              "    cursor: pointer;\n",
              "    display: none;\n",
              "    fill: var(--fill-color);\n",
              "    height: 32px;\n",
              "    padding: 0;\n",
              "    width: 32px;\n",
              "  }\n",
              "\n",
              "  .colab-df-quickchart:hover {\n",
              "    background-color: var(--hover-bg-color);\n",
              "    box-shadow: 0 1px 2px rgba(60, 64, 67, 0.3), 0 1px 3px 1px rgba(60, 64, 67, 0.15);\n",
              "    fill: var(--button-hover-fill-color);\n",
              "  }\n",
              "\n",
              "  .colab-df-quickchart-complete:disabled,\n",
              "  .colab-df-quickchart-complete:disabled:hover {\n",
              "    background-color: var(--disabled-bg-color);\n",
              "    fill: var(--disabled-fill-color);\n",
              "    box-shadow: none;\n",
              "  }\n",
              "\n",
              "  .colab-df-spinner {\n",
              "    border: 2px solid var(--fill-color);\n",
              "    border-color: transparent;\n",
              "    border-bottom-color: var(--fill-color);\n",
              "    animation:\n",
              "      spin 1s steps(1) infinite;\n",
              "  }\n",
              "\n",
              "  @keyframes spin {\n",
              "    0% {\n",
              "      border-color: transparent;\n",
              "      border-bottom-color: var(--fill-color);\n",
              "      border-left-color: var(--fill-color);\n",
              "    }\n",
              "    20% {\n",
              "      border-color: transparent;\n",
              "      border-left-color: var(--fill-color);\n",
              "      border-top-color: var(--fill-color);\n",
              "    }\n",
              "    30% {\n",
              "      border-color: transparent;\n",
              "      border-left-color: var(--fill-color);\n",
              "      border-top-color: var(--fill-color);\n",
              "      border-right-color: var(--fill-color);\n",
              "    }\n",
              "    40% {\n",
              "      border-color: transparent;\n",
              "      border-right-color: var(--fill-color);\n",
              "      border-top-color: var(--fill-color);\n",
              "    }\n",
              "    60% {\n",
              "      border-color: transparent;\n",
              "      border-right-color: var(--fill-color);\n",
              "    }\n",
              "    80% {\n",
              "      border-color: transparent;\n",
              "      border-right-color: var(--fill-color);\n",
              "      border-bottom-color: var(--fill-color);\n",
              "    }\n",
              "    90% {\n",
              "      border-color: transparent;\n",
              "      border-bottom-color: var(--fill-color);\n",
              "    }\n",
              "  }\n",
              "</style>\n",
              "\n",
              "  <script>\n",
              "    async function quickchart(key) {\n",
              "      const quickchartButtonEl =\n",
              "        document.querySelector('#' + key + ' button');\n",
              "      quickchartButtonEl.disabled = true;  // To prevent multiple clicks.\n",
              "      quickchartButtonEl.classList.add('colab-df-spinner');\n",
              "      try {\n",
              "        const charts = await google.colab.kernel.invokeFunction(\n",
              "            'suggestCharts', [key], {});\n",
              "      } catch (error) {\n",
              "        console.error('Error during call to suggestCharts:', error);\n",
              "      }\n",
              "      quickchartButtonEl.classList.remove('colab-df-spinner');\n",
              "      quickchartButtonEl.classList.add('colab-df-quickchart-complete');\n",
              "    }\n",
              "    (() => {\n",
              "      let quickchartButtonEl =\n",
              "        document.querySelector('#df-1fd68eed-a7f9-4ef4-b3f8-36b4b96b97d8 button');\n",
              "      quickchartButtonEl.style.display =\n",
              "        google.colab.kernel.accessAllowed ? 'block' : 'none';\n",
              "    })();\n",
              "  </script>\n",
              "</div>\n",
              "\n",
              "    </div>\n",
              "  </div>\n"
            ],
            "application/vnd.google.colaboratory.intrinsic+json": {
              "type": "dataframe",
              "variable_name": "df"
            }
          },
          "metadata": {},
          "execution_count": 17
        }
      ]
    },
    {
      "cell_type": "markdown",
      "source": [
        "# 6. Separar datos del dataset para entrenamiento y validacion"
      ],
      "metadata": {
        "id": "q4Q2ZEeaR62o"
      }
    },
    {
      "cell_type": "code",
      "source": [
        "# Separar las etiquetas (última columna)\n",
        "X = df.iloc[:, :-1].values\n",
        "y = df.iloc[:, -1].values\n",
        "\n",
        "# Codificar las etiquetas (de letras a números)\n",
        "le = LabelEncoder()\n",
        "y_encoded = le.fit_transform(y)\n",
        "y_categorical = to_categorical(y_encoded)\n",
        "\n",
        "# Dividir entre entrenamiento y validación\n",
        "X_train, X_val, y_train, y_val = train_test_split(X, y_categorical, test_size=0.2, random_state=42, stratify=y)"
      ],
      "metadata": {
        "id": "BrArtdcirEMP"
      },
      "execution_count": null,
      "outputs": []
    },
    {
      "cell_type": "markdown",
      "source": [
        "# 7. Aumenta los datos (Data Augmentation)"
      ],
      "metadata": {
        "id": "0fsHVOqwSdhS"
      }
    },
    {
      "cell_type": "code",
      "source": [
        "from tensorflow.keras.preprocessing.image import ImageDataGenerator\n",
        "\n",
        "datagen = ImageDataGenerator(\n",
        "    rotation_range=10,\n",
        "    width_shift_range=0.1,\n",
        "    height_shift_range=0.1,\n",
        "    zoom_range=0.1,\n",
        "    shear_range=0.1,\n",
        "    fill_mode='nearest'\n",
        ")"
      ],
      "metadata": {
        "id": "mlqfLyJYsfWk"
      },
      "execution_count": null,
      "outputs": []
    },
    {
      "cell_type": "markdown",
      "source": [
        "**Como estamos trabajando con los landmarks entonces se puede aplicar un ligero aumento directamente sobre los valores de los landmarks antes de entrenar**"
      ],
      "metadata": {
        "id": "HVzMEGR3Srbe"
      }
    },
    {
      "cell_type": "code",
      "source": [
        "def augment_landmarks(landmarks, noise_level=0.01):\n",
        "    noise = np.random.normal(0, noise_level, size=landmarks.shape)\n",
        "    return landmarks + noise"
      ],
      "metadata": {
        "id": "liC-sb3gsjKa"
      },
      "execution_count": null,
      "outputs": []
    },
    {
      "cell_type": "markdown",
      "source": [
        "# 8. Normalizacion de los datos para mejorar el entrenamiento del modelo"
      ],
      "metadata": {
        "id": "fNKmIoTTTCQF"
      }
    },
    {
      "cell_type": "code",
      "source": [
        "from sklearn.preprocessing import MinMaxScaler\n",
        "\n",
        "X = df.drop('label', axis=1).values\n",
        "scaler = MinMaxScaler()\n",
        "X_scaled = scaler.fit_transform(X)"
      ],
      "metadata": {
        "id": "xst4Vuj5smFY"
      },
      "execution_count": null,
      "outputs": []
    },
    {
      "cell_type": "markdown",
      "source": [
        "# 9. Diseño de la arquitectura neuronal del modelo"
      ],
      "metadata": {
        "id": "vWW7CYNETRFc"
      }
    },
    {
      "cell_type": "code",
      "source": [
        "from tensorflow.keras.models import Sequential\n",
        "from tensorflow.keras.layers import Dense, Dropout\n",
        "\n",
        "model = Sequential([\n",
        "    Dense(256, activation='relu', input_shape=(X_scaled.shape[1],)),\n",
        "    Dropout(0.3),\n",
        "    Dense(128, activation='relu'),\n",
        "    Dropout(0.3),\n",
        "    Dense(64, activation='relu'),\n",
        "    Dense(len(le.classes_), activation='softmax')\n",
        "])"
      ],
      "metadata": {
        "id": "hRVSvF9CrIlQ",
        "colab": {
          "base_uri": "https://localhost:8080/"
        },
        "outputId": "f6d2b833-7018-4b78-cc6e-eec8bb05b034"
      },
      "execution_count": null,
      "outputs": [
        {
          "output_type": "stream",
          "name": "stderr",
          "text": [
            "/usr/local/lib/python3.11/dist-packages/keras/src/layers/core/dense.py:87: UserWarning: Do not pass an `input_shape`/`input_dim` argument to a layer. When using Sequential models, prefer using an `Input(shape)` object as the first layer in the model instead.\n",
            "  super().__init__(activity_regularizer=activity_regularizer, **kwargs)\n"
          ]
        }
      ]
    },
    {
      "cell_type": "markdown",
      "source": [
        "# 10. Regularizacion de los datos para evitar el overfitting"
      ],
      "metadata": {
        "id": "wI1LrAHeTifg"
      }
    },
    {
      "cell_type": "code",
      "source": [
        "from tensorflow.keras.regularizers import l2\n",
        "\n",
        "Dense(128, activation='relu', kernel_regularizer=l2(0.001))"
      ],
      "metadata": {
        "id": "EPMz7NglstfE",
        "colab": {
          "base_uri": "https://localhost:8080/"
        },
        "outputId": "95894992-6124-4fa7-e69b-378281d1e235"
      },
      "execution_count": null,
      "outputs": [
        {
          "output_type": "execute_result",
          "data": {
            "text/plain": [
              "<Dense name=dense_4, built=False>"
            ]
          },
          "metadata": {},
          "execution_count": 23
        }
      ]
    },
    {
      "cell_type": "code",
      "source": [
        "from tensorflow.keras.callbacks import EarlyStopping\n",
        "\n",
        "early_stop = EarlyStopping(monitor='val_loss', patience=5, restore_best_weights=True)"
      ],
      "metadata": {
        "id": "YUeKl-t0H5Q4"
      },
      "execution_count": null,
      "outputs": []
    },
    {
      "cell_type": "markdown",
      "source": [
        "# 11. Compilacion y entrenamiento del modelo"
      ],
      "metadata": {
        "id": "kG612fTvTy-j"
      }
    },
    {
      "cell_type": "code",
      "source": [
        "model.compile(optimizer='adam', loss='categorical_crossentropy', metrics=['accuracy'])"
      ],
      "metadata": {
        "id": "puP-J0JJIKqP"
      },
      "execution_count": null,
      "outputs": []
    },
    {
      "cell_type": "code",
      "source": [
        "history = model.fit(X_train, y_train,\n",
        "                    validation_data=(X_val, y_val),\n",
        "                    epochs=50,\n",
        "                    batch_size=32)"
      ],
      "metadata": {
        "colab": {
          "base_uri": "https://localhost:8080/"
        },
        "id": "bbbjlyt8rf5v",
        "outputId": "77c45b65-9a51-4430-8ba1-33170e1d9812"
      },
      "execution_count": null,
      "outputs": [
        {
          "output_type": "stream",
          "name": "stdout",
          "text": [
            "Epoch 1/50\n",
            "\u001b[1m242/242\u001b[0m \u001b[32m━━━━━━━━━━━━━━━━━━━━\u001b[0m\u001b[37m\u001b[0m \u001b[1m7s\u001b[0m 13ms/step - accuracy: 0.0458 - loss: 3.0523 - val_accuracy: 0.0656 - val_loss: 3.0347\n",
            "Epoch 2/50\n",
            "\u001b[1m242/242\u001b[0m \u001b[32m━━━━━━━━━━━━━━━━━━━━\u001b[0m\u001b[37m\u001b[0m \u001b[1m1s\u001b[0m 4ms/step - accuracy: 0.0621 - loss: 3.0268 - val_accuracy: 0.0759 - val_loss: 2.9895\n",
            "Epoch 3/50\n",
            "\u001b[1m242/242\u001b[0m \u001b[32m━━━━━━━━━━━━━━━━━━━━\u001b[0m\u001b[37m\u001b[0m \u001b[1m1s\u001b[0m 5ms/step - accuracy: 0.0885 - loss: 2.9778 - val_accuracy: 0.1333 - val_loss: 2.8403\n",
            "Epoch 4/50\n",
            "\u001b[1m242/242\u001b[0m \u001b[32m━━━━━━━━━━━━━━━━━━━━\u001b[0m\u001b[37m\u001b[0m \u001b[1m1s\u001b[0m 5ms/step - accuracy: 0.1224 - loss: 2.8139 - val_accuracy: 0.1829 - val_loss: 2.6418\n",
            "Epoch 5/50\n",
            "\u001b[1m242/242\u001b[0m \u001b[32m━━━━━━━━━━━━━━━━━━━━\u001b[0m\u001b[37m\u001b[0m \u001b[1m1s\u001b[0m 3ms/step - accuracy: 0.1740 - loss: 2.6269 - val_accuracy: 0.2758 - val_loss: 2.3479\n",
            "Epoch 6/50\n",
            "\u001b[1m242/242\u001b[0m \u001b[32m━━━━━━━━━━━━━━━━━━━━\u001b[0m\u001b[37m\u001b[0m \u001b[1m1s\u001b[0m 3ms/step - accuracy: 0.2422 - loss: 2.3607 - val_accuracy: 0.3233 - val_loss: 2.1014\n",
            "Epoch 7/50\n",
            "\u001b[1m242/242\u001b[0m \u001b[32m━━━━━━━━━━━━━━━━━━━━\u001b[0m\u001b[37m\u001b[0m \u001b[1m1s\u001b[0m 3ms/step - accuracy: 0.3204 - loss: 2.1028 - val_accuracy: 0.4313 - val_loss: 1.8680\n",
            "Epoch 8/50\n",
            "\u001b[1m242/242\u001b[0m \u001b[32m━━━━━━━━━━━━━━━━━━━━\u001b[0m\u001b[37m\u001b[0m \u001b[1m1s\u001b[0m 3ms/step - accuracy: 0.3717 - loss: 1.9338 - val_accuracy: 0.4349 - val_loss: 1.8017\n",
            "Epoch 9/50\n",
            "\u001b[1m242/242\u001b[0m \u001b[32m━━━━━━━━━━━━━━━━━━━━\u001b[0m\u001b[37m\u001b[0m \u001b[1m1s\u001b[0m 3ms/step - accuracy: 0.3905 - loss: 1.8680 - val_accuracy: 0.4855 - val_loss: 1.6593\n",
            "Epoch 10/50\n",
            "\u001b[1m242/242\u001b[0m \u001b[32m━━━━━━━━━━━━━━━━━━━━\u001b[0m\u001b[37m\u001b[0m \u001b[1m1s\u001b[0m 3ms/step - accuracy: 0.4065 - loss: 1.7966 - val_accuracy: 0.4778 - val_loss: 1.6100\n",
            "Epoch 11/50\n",
            "\u001b[1m242/242\u001b[0m \u001b[32m━━━━━━━━━━━━━━━━━━━━\u001b[0m\u001b[37m\u001b[0m \u001b[1m1s\u001b[0m 4ms/step - accuracy: 0.4338 - loss: 1.6810 - val_accuracy: 0.4654 - val_loss: 1.6414\n",
            "Epoch 12/50\n",
            "\u001b[1m242/242\u001b[0m \u001b[32m━━━━━━━━━━━━━━━━━━━━\u001b[0m\u001b[37m\u001b[0m \u001b[1m1s\u001b[0m 3ms/step - accuracy: 0.4316 - loss: 1.7251 - val_accuracy: 0.4948 - val_loss: 1.5510\n",
            "Epoch 13/50\n",
            "\u001b[1m242/242\u001b[0m \u001b[32m━━━━━━━━━━━━━━━━━━━━\u001b[0m\u001b[37m\u001b[0m \u001b[1m1s\u001b[0m 3ms/step - accuracy: 0.4465 - loss: 1.6539 - val_accuracy: 0.5108 - val_loss: 1.5172\n",
            "Epoch 14/50\n",
            "\u001b[1m242/242\u001b[0m \u001b[32m━━━━━━━━━━━━━━━━━━━━\u001b[0m\u001b[37m\u001b[0m \u001b[1m2s\u001b[0m 5ms/step - accuracy: 0.4521 - loss: 1.6370 - val_accuracy: 0.5176 - val_loss: 1.4993\n",
            "Epoch 15/50\n",
            "\u001b[1m242/242\u001b[0m \u001b[32m━━━━━━━━━━━━━━━━━━━━\u001b[0m\u001b[37m\u001b[0m \u001b[1m1s\u001b[0m 5ms/step - accuracy: 0.4695 - loss: 1.6052 - val_accuracy: 0.5232 - val_loss: 1.4779\n",
            "Epoch 16/50\n",
            "\u001b[1m242/242\u001b[0m \u001b[32m━━━━━━━━━━━━━━━━━━━━\u001b[0m\u001b[37m\u001b[0m \u001b[1m1s\u001b[0m 3ms/step - accuracy: 0.4541 - loss: 1.6111 - val_accuracy: 0.5129 - val_loss: 1.4564\n",
            "Epoch 17/50\n",
            "\u001b[1m242/242\u001b[0m \u001b[32m━━━━━━━━━━━━━━━━━━━━\u001b[0m\u001b[37m\u001b[0m \u001b[1m1s\u001b[0m 3ms/step - accuracy: 0.4803 - loss: 1.5775 - val_accuracy: 0.5170 - val_loss: 1.4604\n",
            "Epoch 18/50\n",
            "\u001b[1m242/242\u001b[0m \u001b[32m━━━━━━━━━━━━━━━━━━━━\u001b[0m\u001b[37m\u001b[0m \u001b[1m1s\u001b[0m 3ms/step - accuracy: 0.4686 - loss: 1.5709 - val_accuracy: 0.5108 - val_loss: 1.4594\n",
            "Epoch 19/50\n",
            "\u001b[1m242/242\u001b[0m \u001b[32m━━━━━━━━━━━━━━━━━━━━\u001b[0m\u001b[37m\u001b[0m \u001b[1m1s\u001b[0m 3ms/step - accuracy: 0.4743 - loss: 1.5519 - val_accuracy: 0.5160 - val_loss: 1.4590\n",
            "Epoch 20/50\n",
            "\u001b[1m242/242\u001b[0m \u001b[32m━━━━━━━━━━━━━━━━━━━━\u001b[0m\u001b[37m\u001b[0m \u001b[1m1s\u001b[0m 3ms/step - accuracy: 0.4967 - loss: 1.5489 - val_accuracy: 0.5289 - val_loss: 1.4127\n",
            "Epoch 21/50\n",
            "\u001b[1m242/242\u001b[0m \u001b[32m━━━━━━━━━━━━━━━━━━━━\u001b[0m\u001b[37m\u001b[0m \u001b[1m1s\u001b[0m 3ms/step - accuracy: 0.4852 - loss: 1.5299 - val_accuracy: 0.5320 - val_loss: 1.4204\n",
            "Epoch 22/50\n",
            "\u001b[1m242/242\u001b[0m \u001b[32m━━━━━━━━━━━━━━━━━━━━\u001b[0m\u001b[37m\u001b[0m \u001b[1m1s\u001b[0m 3ms/step - accuracy: 0.4914 - loss: 1.5111 - val_accuracy: 0.5310 - val_loss: 1.4093\n",
            "Epoch 23/50\n",
            "\u001b[1m242/242\u001b[0m \u001b[32m━━━━━━━━━━━━━━━━━━━━\u001b[0m\u001b[37m\u001b[0m \u001b[1m1s\u001b[0m 3ms/step - accuracy: 0.5014 - loss: 1.4888 - val_accuracy: 0.5537 - val_loss: 1.3721\n",
            "Epoch 24/50\n",
            "\u001b[1m242/242\u001b[0m \u001b[32m━━━━━━━━━━━━━━━━━━━━\u001b[0m\u001b[37m\u001b[0m \u001b[1m1s\u001b[0m 3ms/step - accuracy: 0.5089 - loss: 1.4724 - val_accuracy: 0.5527 - val_loss: 1.3758\n",
            "Epoch 25/50\n",
            "\u001b[1m242/242\u001b[0m \u001b[32m━━━━━━━━━━━━━━━━━━━━\u001b[0m\u001b[37m\u001b[0m \u001b[1m1s\u001b[0m 3ms/step - accuracy: 0.5026 - loss: 1.4830 - val_accuracy: 0.5475 - val_loss: 1.3763\n",
            "Epoch 26/50\n",
            "\u001b[1m242/242\u001b[0m \u001b[32m━━━━━━━━━━━━━━━━━━━━\u001b[0m\u001b[37m\u001b[0m \u001b[1m1s\u001b[0m 3ms/step - accuracy: 0.5280 - loss: 1.4487 - val_accuracy: 0.5702 - val_loss: 1.3398\n",
            "Epoch 27/50\n",
            "\u001b[1m242/242\u001b[0m \u001b[32m━━━━━━━━━━━━━━━━━━━━\u001b[0m\u001b[37m\u001b[0m \u001b[1m1s\u001b[0m 4ms/step - accuracy: 0.5200 - loss: 1.4330 - val_accuracy: 0.5434 - val_loss: 1.3818\n",
            "Epoch 28/50\n",
            "\u001b[1m242/242\u001b[0m \u001b[32m━━━━━━━━━━━━━━━━━━━━\u001b[0m\u001b[37m\u001b[0m \u001b[1m1s\u001b[0m 4ms/step - accuracy: 0.5223 - loss: 1.4547 - val_accuracy: 0.5620 - val_loss: 1.3358\n",
            "Epoch 29/50\n",
            "\u001b[1m242/242\u001b[0m \u001b[32m━━━━━━━━━━━━━━━━━━━━\u001b[0m\u001b[37m\u001b[0m \u001b[1m1s\u001b[0m 4ms/step - accuracy: 0.5223 - loss: 1.4228 - val_accuracy: 0.5702 - val_loss: 1.3180\n",
            "Epoch 30/50\n",
            "\u001b[1m242/242\u001b[0m \u001b[32m━━━━━━━━━━━━━━━━━━━━\u001b[0m\u001b[37m\u001b[0m \u001b[1m1s\u001b[0m 3ms/step - accuracy: 0.5216 - loss: 1.4641 - val_accuracy: 0.5640 - val_loss: 1.3310\n",
            "Epoch 31/50\n",
            "\u001b[1m242/242\u001b[0m \u001b[32m━━━━━━━━━━━━━━━━━━━━\u001b[0m\u001b[37m\u001b[0m \u001b[1m1s\u001b[0m 3ms/step - accuracy: 0.5284 - loss: 1.3895 - val_accuracy: 0.5847 - val_loss: 1.2916\n",
            "Epoch 32/50\n",
            "\u001b[1m242/242\u001b[0m \u001b[32m━━━━━━━━━━━━━━━━━━━━\u001b[0m\u001b[37m\u001b[0m \u001b[1m1s\u001b[0m 3ms/step - accuracy: 0.5361 - loss: 1.4025 - val_accuracy: 0.5413 - val_loss: 1.3515\n",
            "Epoch 33/50\n",
            "\u001b[1m242/242\u001b[0m \u001b[32m━━━━━━━━━━━━━━━━━━━━\u001b[0m\u001b[37m\u001b[0m \u001b[1m1s\u001b[0m 3ms/step - accuracy: 0.5378 - loss: 1.3968 - val_accuracy: 0.5455 - val_loss: 1.3206\n",
            "Epoch 34/50\n",
            "\u001b[1m242/242\u001b[0m \u001b[32m━━━━━━━━━━━━━━━━━━━━\u001b[0m\u001b[37m\u001b[0m \u001b[1m1s\u001b[0m 3ms/step - accuracy: 0.5315 - loss: 1.3926 - val_accuracy: 0.5630 - val_loss: 1.3235\n",
            "Epoch 35/50\n",
            "\u001b[1m242/242\u001b[0m \u001b[32m━━━━━━━━━━━━━━━━━━━━\u001b[0m\u001b[37m\u001b[0m \u001b[1m1s\u001b[0m 3ms/step - accuracy: 0.5392 - loss: 1.3757 - val_accuracy: 0.5873 - val_loss: 1.2801\n",
            "Epoch 36/50\n",
            "\u001b[1m242/242\u001b[0m \u001b[32m━━━━━━━━━━━━━━━━━━━━\u001b[0m\u001b[37m\u001b[0m \u001b[1m1s\u001b[0m 3ms/step - accuracy: 0.5433 - loss: 1.3809 - val_accuracy: 0.5863 - val_loss: 1.2816\n",
            "Epoch 37/50\n",
            "\u001b[1m242/242\u001b[0m \u001b[32m━━━━━━━━━━━━━━━━━━━━\u001b[0m\u001b[37m\u001b[0m \u001b[1m1s\u001b[0m 3ms/step - accuracy: 0.5553 - loss: 1.3489 - val_accuracy: 0.5925 - val_loss: 1.2543\n",
            "Epoch 38/50\n",
            "\u001b[1m242/242\u001b[0m \u001b[32m━━━━━━━━━━━━━━━━━━━━\u001b[0m\u001b[37m\u001b[0m \u001b[1m1s\u001b[0m 3ms/step - accuracy: 0.5415 - loss: 1.3786 - val_accuracy: 0.5806 - val_loss: 1.2647\n",
            "Epoch 39/50\n",
            "\u001b[1m242/242\u001b[0m \u001b[32m━━━━━━━━━━━━━━━━━━━━\u001b[0m\u001b[37m\u001b[0m \u001b[1m2s\u001b[0m 4ms/step - accuracy: 0.5460 - loss: 1.3788 - val_accuracy: 0.5914 - val_loss: 1.2496\n",
            "Epoch 40/50\n",
            "\u001b[1m242/242\u001b[0m \u001b[32m━━━━━━━━━━━━━━━━━━━━\u001b[0m\u001b[37m\u001b[0m \u001b[1m1s\u001b[0m 5ms/step - accuracy: 0.5431 - loss: 1.3512 - val_accuracy: 0.5857 - val_loss: 1.2398\n",
            "Epoch 41/50\n",
            "\u001b[1m242/242\u001b[0m \u001b[32m━━━━━━━━━━━━━━━━━━━━\u001b[0m\u001b[37m\u001b[0m \u001b[1m1s\u001b[0m 4ms/step - accuracy: 0.5509 - loss: 1.3502 - val_accuracy: 0.5992 - val_loss: 1.2388\n",
            "Epoch 42/50\n",
            "\u001b[1m242/242\u001b[0m \u001b[32m━━━━━━━━━━━━━━━━━━━━\u001b[0m\u001b[37m\u001b[0m \u001b[1m1s\u001b[0m 3ms/step - accuracy: 0.5632 - loss: 1.3193 - val_accuracy: 0.5940 - val_loss: 1.2442\n",
            "Epoch 43/50\n",
            "\u001b[1m242/242\u001b[0m \u001b[32m━━━━━━━━━━━━━━━━━━━━\u001b[0m\u001b[37m\u001b[0m \u001b[1m1s\u001b[0m 3ms/step - accuracy: 0.5563 - loss: 1.3542 - val_accuracy: 0.5992 - val_loss: 1.2249\n",
            "Epoch 44/50\n",
            "\u001b[1m242/242\u001b[0m \u001b[32m━━━━━━━━━━━━━━━━━━━━\u001b[0m\u001b[37m\u001b[0m \u001b[1m1s\u001b[0m 3ms/step - accuracy: 0.5551 - loss: 1.3505 - val_accuracy: 0.5966 - val_loss: 1.2389\n",
            "Epoch 45/50\n",
            "\u001b[1m242/242\u001b[0m \u001b[32m━━━━━━━━━━━━━━━━━━━━\u001b[0m\u001b[37m\u001b[0m \u001b[1m1s\u001b[0m 3ms/step - accuracy: 0.5721 - loss: 1.2966 - val_accuracy: 0.5940 - val_loss: 1.2608\n",
            "Epoch 46/50\n",
            "\u001b[1m242/242\u001b[0m \u001b[32m━━━━━━━━━━━━━━━━━━━━\u001b[0m\u001b[37m\u001b[0m \u001b[1m1s\u001b[0m 3ms/step - accuracy: 0.5666 - loss: 1.3227 - val_accuracy: 0.6147 - val_loss: 1.2017\n",
            "Epoch 47/50\n",
            "\u001b[1m242/242\u001b[0m \u001b[32m━━━━━━━━━━━━━━━━━━━━\u001b[0m\u001b[37m\u001b[0m \u001b[1m1s\u001b[0m 3ms/step - accuracy: 0.5710 - loss: 1.2940 - val_accuracy: 0.6105 - val_loss: 1.2092\n",
            "Epoch 48/50\n",
            "\u001b[1m242/242\u001b[0m \u001b[32m━━━━━━━━━━━━━━━━━━━━\u001b[0m\u001b[37m\u001b[0m \u001b[1m1s\u001b[0m 3ms/step - accuracy: 0.5675 - loss: 1.3360 - val_accuracy: 0.6131 - val_loss: 1.2064\n",
            "Epoch 49/50\n",
            "\u001b[1m242/242\u001b[0m \u001b[32m━━━━━━━━━━━━━━━━━━━━\u001b[0m\u001b[37m\u001b[0m \u001b[1m1s\u001b[0m 3ms/step - accuracy: 0.5713 - loss: 1.2906 - val_accuracy: 0.6147 - val_loss: 1.1949\n",
            "Epoch 50/50\n",
            "\u001b[1m242/242\u001b[0m \u001b[32m━━━━━━━━━━━━━━━━━━━━\u001b[0m\u001b[37m\u001b[0m \u001b[1m1s\u001b[0m 3ms/step - accuracy: 0.5757 - loss: 1.2990 - val_accuracy: 0.5857 - val_loss: 1.2391\n"
          ]
        }
      ]
    },
    {
      "cell_type": "code",
      "source": [
        "plt.plot(history.history['accuracy'], label='Entrenamiento')\n",
        "plt.plot(history.history['val_accuracy'], label='Validación')\n",
        "plt.title('Precisión del Modelo')\n",
        "plt.xlabel('Épocas')\n",
        "plt.ylabel('Precisión')\n",
        "plt.legend()\n",
        "plt.grid(True)\n",
        "plt.show()"
      ],
      "metadata": {
        "colab": {
          "base_uri": "https://localhost:8080/",
          "height": 474
        },
        "id": "2bVixTf7r0w5",
        "outputId": "3607fb1d-4862-415b-f4ab-60a569e4ea1b"
      },
      "execution_count": null,
      "outputs": [
        {
          "output_type": "display_data",
          "data": {
            "text/plain": [
              "<Figure size 640x480 with 1 Axes>"
            ],
            "image/png": "[encoded data removed]"
          },
          "metadata": {}
        }
      ]
    },
    {
      "cell_type": "markdown",
      "source": [
        "# 11. Guardar el modelo y las clases landmarks"
      ],
      "metadata": {
        "id": "byV-3YmlT5VK"
      }
    },
    {
      "cell_type": "code",
      "source": [
        "# Guardar el modelo\n",
        "model.save('/content/modelo_lsc_mediapipe.h5')\n",
        "\n",
        "# Guardar las clases\n",
        "import pickle\n",
        "with open('/content/label_encoder.pkl', 'wb') as f:\n",
        "    pickle.dump(le, f)"
      ],
      "metadata": {
        "id": "8wJ9NsTur8r1",
        "colab": {
          "base_uri": "https://localhost:8080/"
        },
        "outputId": "b535dfdb-4194-4720-ca2a-a15cde21aed8"
      },
      "execution_count": null,
      "outputs": [
        {
          "output_type": "stream",
          "name": "stderr",
          "text": [
            "WARNING:absl:You are saving your model as an HDF5 file via `model.save()` or `keras.saving.save_model(model)`. This file format is considered legacy. We recommend using instead the native Keras format, e.g. `model.save('my_model.keras')` or `keras.saving.save_model(model, 'my_model.keras')`. \n"
          ]
        }
      ]
    }
  ]
}